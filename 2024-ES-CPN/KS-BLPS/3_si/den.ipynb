{
 "cells": [
  {
   "cell_type": "code",
   "execution_count": 1,
   "metadata": {
    "metadata": {}
   },
   "outputs": [],
   "source": [
    "import numpy as np\n",
    "from sci_tools import read_den"
   ]
  },
  {
   "cell_type": "code",
   "execution_count": 10,
   "metadata": {
    "metadata": {}
   },
   "outputs": [],
   "source": [
    "den = []\n",
    "volumes = np.array([98.6054, 206.418, 1993.72, 275.932, 99.073, 196.068, 551.018, 108.963])\n",
    "natoms = np.array([1, 2, 16, 2, 1, 2, 4, 1])\n",
    "struc = ['bcc', 'btin', 'cbcc', 'cd', 'fcc', 'hcp', 'hd', 'sc']\n",
    "N = len(struc)\n",
    "for i in range(N):\n",
    "    den_file = './2_equilibrium_den/{0}/OUT.blpstest/SPIN1_CHG.cube'.format(struc[i])\n",
    "    den.append(read_den(den_file))"
   ]
  },
  {
   "cell_type": "code",
   "execution_count": 17,
   "metadata": {
    "metadata": {}
   },
   "outputs": [
    {
     "name": "stdout",
     "output_type": "stream",
     "text": [
      "bcc 0.11521302563432843 0.11521302563432843 0.02880325640858211 0.5197996036757606\n",
      "btin 0.4732407695029415 0.23662038475147076 0.05915509618786769 0.8284272142901558\n",
      "cbcc 10.650591109216213 0.6656619443260133 0.16641548608150333 0.9974323313243386\n",
      "cd 1.951220140445081 0.9756100702225405 0.24390251755563513 0.9998841264977925\n",
      "fcc 0.116473857294433 0.116473857294433 0.02911846432360825 0.5243853434267799\n",
      "hcp 0.22516169074889428 0.11258084537444714 0.028145211343611785 0.510129069634047\n",
      "hd 3.8930252567947883 0.9732563141986971 0.24331407854967427 0.9998813669306973\n",
      "sc 0.3092282476314724 0.3092282476314724 0.0773070619078681 0.9131465597991033\n"
     ]
    }
   ],
   "source": [
    "rho0 = natoms / volumes * 4\n",
    "\n",
    "scales = np.zeros(N)\n",
    "for i in range(N):\n",
    "    scales[i] = 0.5 * np.sum((den[i] - rho0[i])**2) / (np.sum(den[i]) / volumes[i])\n",
    "    print(struc[i], scales[i], scales[i] / natoms[i], scales[i] / natoms[i]/4, np.tanh(scales[i] / natoms[i]/4 * 20))\n"
   ]
  },
  {
   "cell_type": "code",
   "execution_count": null,
   "metadata": {},
   "outputs": [],
   "source": []
  }
 ],
 "metadata": {
  "kernelspec": {
   "display_name": "base",
   "language": "python",
   "name": "python3"
  },
  "language_info": {
   "codemirror_mode": {
    "name": "ipython",
    "version": 3
   },
   "file_extension": ".py",
   "mimetype": "text/x-python",
   "name": "python",
   "nbconvert_exporter": "python",
   "pygments_lexer": "ipython3",
   "version": "3.9.16"
  }
 },
 "nbformat": 4,
 "nbformat_minor": 2
}
